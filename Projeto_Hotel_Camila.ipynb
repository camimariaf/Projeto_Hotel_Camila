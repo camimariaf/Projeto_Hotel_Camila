{
  "nbformat": 4,
  "nbformat_minor": 0,
  "metadata": {
    "colab": {
      "provenance": [],
      "authorship_tag": "ABX9TyMyWAMf2f1JnOpuZneS2OKv",
      "include_colab_link": true
    },
    "kernelspec": {
      "name": "python3",
      "display_name": "Python 3"
    },
    "language_info": {
      "name": "python"
    }
  },
  "cells": [
    {
      "cell_type": "markdown",
      "metadata": {
        "id": "view-in-github",
        "colab_type": "text"
      },
      "source": [
        "<a href=\"https://colab.research.google.com/github/camimariaf/Projeto_Hotel_Camila/blob/main/Projeto_Hotel_Camila.ipynb\" target=\"_parent\"><img src=\"https://colab.research.google.com/assets/colab-badge.svg\" alt=\"Open In Colab\"/></a>"
      ]
    },
    {
      "cell_type": "markdown",
      "source": [],
      "metadata": {
        "id": "ySRmgrY91J-u"
      }
    },
    {
      "cell_type": "code",
      "source": [
        "clientes, hoteis, avaliacoes = {}, {}, {}\n",
        "id_cliente, id_hotel = 1, 1\n",
        "\n",
        "def adicionar_cliente():\n",
        "  global id_cliente\n",
        "  nome = input(\"Nome: \")\n",
        "  email = input(\"Email: \")\n",
        "  telefone = input(\"Telefone: \")\n",
        "  preferencias = input(\"Preferências de hospedagem: \")\n",
        "  clientes[id_cliente] = {\"Nome\": nome, \"Email\": email, \"Telefone\": telefone, \"Preferências\": preferencias}\n",
        "  print(f\"Cliente {nome} cadastrado com ID {id_cliente}.\\n\")\n",
        "  id_cliente += 1\n",
        "\n",
        "def adicionar_hotel(nome, localizacao):\n",
        "  global id_hotel\n",
        "  hoteis[id_hotel] = {\"Nome\": nome, \"Localização\": localizacao}\n",
        "  avaliacoes[id_hotel] = []\n",
        "  id_hotel += 1\n",
        "\n",
        "def listar(dados, titulo):\n",
        "  \"\"\"Lista clientes ou hotéis cadastrados.\"\"\"\n",
        "  if dados:\n",
        "    print(f\"\\n{titulo}:\")\n",
        "    for id_, info in dados.items():\n",
        "      print(f\"ID {id_} | \" + \" | \".join(f\"{k}: {v}\" for k, v in info.items()))\n",
        "  else:\n",
        "    print(f\"\\nNenhum {titulo.lower()} cadastrado.\")\n",
        "\n",
        "def avaliar_hotel():\n",
        "  if not clientes or not hoteis:\n",
        "    print(\"\\nCadastre um cliente e um hotel antes de avaliar.\\n\")\n",
        "    return\n",
        "\n",
        "  id_cliente = int(input(\"Seu ID de cliente: \"))\n",
        "  id_hotel = int(input(\"ID do hotel que deseja avaliar: \"))\n",
        "  if id_cliente not in clientes or id_hotel not in hoteis:\n",
        "    print(\"Erro: Cliente ou hotel não encontrado.\\n\")\n",
        "    return\n",
        "\n",
        "  nota = int(input(\"Nota (1-5): \"))\n",
        "  if nota < 1 or nota > 5:\n",
        "    print(\"Erro: Nota deve ser entre 1 e 5.\\n\")\n",
        "    return\n",
        "\n",
        "  comentario = input(\"Comentário: \")\n",
        "  avaliacoes[id_hotel].append(f\"{clientes[id_cliente]['Nome']}: {nota}/5 - {comentario}\")\n",
        "  print(\"Avaliação registrada com sucesso!\\n\")\n",
        "\n",
        "def listar_avaliacoes():\n",
        "  id_hotel = int(input(\"ID do hotel para ver avaliações: \"))\n",
        "  if id_hotel not in hoteis:\n",
        "    print(\"Erro: Hotel não encontrado.\\n\")\n",
        "    return\n",
        "\n",
        "  print(f\"\\nAvaliações para {hoteis[id_hotel]['Nome']}:\")\n",
        "  if avaliacoes[id_hotel]:\n",
        "    for av in avaliacoes[id_hotel]:\n",
        "      print(f\"- {av}\")\n",
        "  else:\n",
        "    print(\"Sem avaliações ainda.\\n\")\n",
        "\n",
        "\n",
        "# Adicionando hotéis fixos no sistema\n",
        "adicionar_hotel(\"Hotel Paraíso\", \"Rio de Janeiro\")\n",
        "adicionar_hotel(\"Pousada do Sol\", \"Salvador\")\n",
        "\n",
        "# MENU INTERATIVO\n",
        "while True:\n",
        "  print(\"\\nMenu:\")\n",
        "  print(\"1 - Cadastrar Cliente\")\n",
        "  print(\"2 - Listar Hotéis\")\n",
        "  print(\"3 - Avaliar Hotel\")\n",
        "  print(\"4 - Ver Avaliações\")\n",
        "  print(\"5 - Sair\")\n",
        "\n",
        "  opcao = input(\"Escolha uma opção: \")\n",
        "  if opcao == \"1\":\n",
        "    adicionar_cliente()\n",
        "  elif opcao == \"2\":\n",
        "    listar(hoteis, \"Hotéis Cadastrados\")\n",
        "  elif opcao == \"3\":\n",
        "    avaliar_hotel()\n",
        "  elif opcao == \"4\":\n",
        "    listar_avaliacoes()\n",
        "  elif opcao == \"5\":\n",
        "    print(\"Saindo do sistema. Obrigado!\")\n",
        "    break\n",
        "  else:\n",
        "    print(\"Opção inválida. Tente novamente.\\n\")"
      ],
      "metadata": {
        "colab": {
          "base_uri": "https://localhost:8080/",
          "height": 721
        },
        "id": "pKwSYIab1RMe",
        "outputId": "f4885fe8-dd41-43c9-feea-37b90c2ba75e"
      },
      "execution_count": 2,
      "outputs": [
        {
          "output_type": "stream",
          "name": "stdout",
          "text": [
            "\n",
            "Menu:\n",
            "1 - Cadastrar Cliente\n",
            "2 - Listar Hotéis\n",
            "3 - Avaliar Hotel\n",
            "4 - Ver Avaliações\n",
            "5 - Sair\n",
            "Escolha uma opção: 1\n",
            "Nome: Camila\n",
            "Email: camccmas\n",
            "Telefone: 3231123\n",
            "Preferências de hospedagem: hotel\n",
            "Cliente Camila cadastrado com ID 1.\n",
            "\n",
            "\n",
            "Menu:\n",
            "1 - Cadastrar Cliente\n",
            "2 - Listar Hotéis\n",
            "3 - Avaliar Hotel\n",
            "4 - Ver Avaliações\n",
            "5 - Sair\n"
          ]
        },
        {
          "output_type": "error",
          "ename": "KeyboardInterrupt",
          "evalue": "Interrupted by user",
          "traceback": [
            "\u001b[0;31m---------------------------------------------------------------------------\u001b[0m",
            "\u001b[0;31mKeyboardInterrupt\u001b[0m                         Traceback (most recent call last)",
            "\u001b[0;32m<ipython-input-2-7c4fa18cb3af>\u001b[0m in \u001b[0;36m<cell line: 0>\u001b[0;34m()\u001b[0m\n\u001b[1;32m     74\u001b[0m   \u001b[0mprint\u001b[0m\u001b[0;34m(\u001b[0m\u001b[0;34m\"5 - Sair\"\u001b[0m\u001b[0;34m)\u001b[0m\u001b[0;34m\u001b[0m\u001b[0;34m\u001b[0m\u001b[0m\n\u001b[1;32m     75\u001b[0m \u001b[0;34m\u001b[0m\u001b[0m\n\u001b[0;32m---> 76\u001b[0;31m   \u001b[0mopcao\u001b[0m \u001b[0;34m=\u001b[0m \u001b[0minput\u001b[0m\u001b[0;34m(\u001b[0m\u001b[0;34m\"Escolha uma opção: \"\u001b[0m\u001b[0;34m)\u001b[0m\u001b[0;34m\u001b[0m\u001b[0;34m\u001b[0m\u001b[0m\n\u001b[0m\u001b[1;32m     77\u001b[0m   \u001b[0;32mif\u001b[0m \u001b[0mopcao\u001b[0m \u001b[0;34m==\u001b[0m \u001b[0;34m\"1\"\u001b[0m\u001b[0;34m:\u001b[0m\u001b[0;34m\u001b[0m\u001b[0;34m\u001b[0m\u001b[0m\n\u001b[1;32m     78\u001b[0m     \u001b[0madicionar_cliente\u001b[0m\u001b[0;34m(\u001b[0m\u001b[0;34m)\u001b[0m\u001b[0;34m\u001b[0m\u001b[0;34m\u001b[0m\u001b[0m\n",
            "\u001b[0;32m/usr/local/lib/python3.11/dist-packages/ipykernel/kernelbase.py\u001b[0m in \u001b[0;36mraw_input\u001b[0;34m(self, prompt)\u001b[0m\n\u001b[1;32m    849\u001b[0m                 \u001b[0;34m\"raw_input was called, but this frontend does not support input requests.\"\u001b[0m\u001b[0;34m\u001b[0m\u001b[0;34m\u001b[0m\u001b[0m\n\u001b[1;32m    850\u001b[0m             )\n\u001b[0;32m--> 851\u001b[0;31m         return self._input_request(str(prompt),\n\u001b[0m\u001b[1;32m    852\u001b[0m             \u001b[0mself\u001b[0m\u001b[0;34m.\u001b[0m\u001b[0m_parent_ident\u001b[0m\u001b[0;34m,\u001b[0m\u001b[0;34m\u001b[0m\u001b[0;34m\u001b[0m\u001b[0m\n\u001b[1;32m    853\u001b[0m             \u001b[0mself\u001b[0m\u001b[0;34m.\u001b[0m\u001b[0m_parent_header\u001b[0m\u001b[0;34m,\u001b[0m\u001b[0;34m\u001b[0m\u001b[0;34m\u001b[0m\u001b[0m\n",
            "\u001b[0;32m/usr/local/lib/python3.11/dist-packages/ipykernel/kernelbase.py\u001b[0m in \u001b[0;36m_input_request\u001b[0;34m(self, prompt, ident, parent, password)\u001b[0m\n\u001b[1;32m    893\u001b[0m             \u001b[0;32mexcept\u001b[0m \u001b[0mKeyboardInterrupt\u001b[0m\u001b[0;34m:\u001b[0m\u001b[0;34m\u001b[0m\u001b[0;34m\u001b[0m\u001b[0m\n\u001b[1;32m    894\u001b[0m                 \u001b[0;31m# re-raise KeyboardInterrupt, to truncate traceback\u001b[0m\u001b[0;34m\u001b[0m\u001b[0;34m\u001b[0m\u001b[0m\n\u001b[0;32m--> 895\u001b[0;31m                 \u001b[0;32mraise\u001b[0m \u001b[0mKeyboardInterrupt\u001b[0m\u001b[0;34m(\u001b[0m\u001b[0;34m\"Interrupted by user\"\u001b[0m\u001b[0;34m)\u001b[0m \u001b[0;32mfrom\u001b[0m \u001b[0;32mNone\u001b[0m\u001b[0;34m\u001b[0m\u001b[0;34m\u001b[0m\u001b[0m\n\u001b[0m\u001b[1;32m    896\u001b[0m             \u001b[0;32mexcept\u001b[0m \u001b[0mException\u001b[0m \u001b[0;32mas\u001b[0m \u001b[0me\u001b[0m\u001b[0;34m:\u001b[0m\u001b[0;34m\u001b[0m\u001b[0;34m\u001b[0m\u001b[0m\n\u001b[1;32m    897\u001b[0m                 \u001b[0mself\u001b[0m\u001b[0;34m.\u001b[0m\u001b[0mlog\u001b[0m\u001b[0;34m.\u001b[0m\u001b[0mwarning\u001b[0m\u001b[0;34m(\u001b[0m\u001b[0;34m\"Invalid Message:\"\u001b[0m\u001b[0;34m,\u001b[0m \u001b[0mexc_info\u001b[0m\u001b[0;34m=\u001b[0m\u001b[0;32mTrue\u001b[0m\u001b[0;34m)\u001b[0m\u001b[0;34m\u001b[0m\u001b[0;34m\u001b[0m\u001b[0m\n",
            "\u001b[0;31mKeyboardInterrupt\u001b[0m: Interrupted by user"
          ]
        }
      ]
    }
  ]
}